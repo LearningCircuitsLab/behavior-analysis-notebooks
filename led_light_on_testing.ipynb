{
 "cells": [
  {
   "cell_type": "code",
   "execution_count": 1,
   "id": "b7f2cf76",
   "metadata": {},
   "outputs": [
    {
     "data": {
      "text/html": [
       "\n",
       "            <div>\n",
       "                <ins><a href=\"ttps://ydata.ai/register\">Upgrade to ydata-sdk</a></ins>\n",
       "                <p>\n",
       "                    Improve your data and profiling with ydata-sdk, featuring data quality scoring, redundancy detection, outlier identification, text validation, and synthetic data generation.\n",
       "                </p>\n",
       "            </div>\n",
       "            "
      ],
      "text/plain": [
       "<IPython.core.display.HTML object>"
      ]
     },
     "metadata": {},
     "output_type": "display_data"
    }
   ],
   "source": [
    "import lecilab_behavior_analysis.utils as utils\n",
    "import lecilab_behavior_analysis.df_transforms as dft\n",
    "import lecilab_behavior_analysis.plots as plots\n",
    "from pathlib import Path\n",
    "import pandas as pd\n",
    "import numpy as np\n",
    "from ydata_profiling import ProfileReport\n",
    "import matplotlib.pyplot as plt\n",
    "import seaborn as sns\n",
    "\n",
    "%load_ext autoreload\n",
    "%autoreload 2"
   ]
  },
  {
   "cell_type": "code",
   "execution_count": 2,
   "id": "ac11e2b1",
   "metadata": {},
   "outputs": [
    {
     "name": "stdout",
     "output_type": "stream",
     "text": [
      "receiving incremental file list\n",
      "ACV001.csv\n",
      "\n",
      "sent 43,730 bytes  received 519,341 bytes  125,126.89 bytes/sec\n",
      "total size is 41,767,704  speedup is 74.18\n",
      "receiving incremental file list\n",
      "ACV002.csv\n",
      "\n",
      "sent 43,289 bytes  received 515,869 bytes  159,759.43 bytes/sec\n",
      "total size is 40,923,400  speedup is 73.19\n",
      "receiving incremental file list\n",
      "ACV003.csv\n",
      "\n",
      "sent 45,921 bytes  received 507,010 bytes  100,532.91 bytes/sec\n",
      "total size is 45,812,012  speedup is 82.85\n",
      "receiving incremental file list\n",
      "ACV004.csv\n",
      "\n",
      "sent 31,957 bytes  received 332,238 bytes  80,932.22 bytes/sec\n",
      "total size is 29,953,369  speedup is 82.25\n",
      "receiving incremental file list\n",
      "ACV005.csv\n",
      "\n",
      "sent 32,359 bytes  received 339,470 bytes  106,236.86 bytes/sec\n",
      "total size is 31,041,028  speedup is 83.48\n",
      "receiving incremental file list\n",
      "ACV006.csv\n",
      "\n",
      "sent 42,890 bytes  received 453,442 bytes  110,296.00 bytes/sec\n",
      "total size is 40,025,611  speedup is 80.64\n",
      "receiving incremental file list\n",
      "ACV007.csv\n",
      "\n",
      "sent 34,669 bytes  received 289,806 bytes  72,105.56 bytes/sec\n",
      "total size is 34,873,748  speedup is 107.48\n",
      "receiving incremental file list\n",
      "ACV008.csv\n",
      "\n",
      "sent 44,703 bytes  received 488,568 bytes  118,504.67 bytes/sec\n",
      "total size is 43,541,028  speedup is 81.65\n",
      "receiving incremental file list\n",
      "ACV009.csv\n",
      "\n",
      "sent 47,804 bytes  received 526,079 bytes  127,529.56 bytes/sec\n",
      "total size is 49,412,359  speedup is 86.10\n",
      "receiving incremental file list\n",
      "ACV010.csv\n",
      "\n",
      "sent 44,101 bytes  received 325,537 bytes  82,141.78 bytes/sec\n",
      "total size is 41,377,966  speedup is 111.94\n"
     ]
    },
    {
     "name": "stderr",
     "output_type": "stream",
     "text": [
      "/tmp/ipykernel_553375/3884949693.py:21: DtypeWarning: Columns (13,14,17,18,27,28,29,30,39) have mixed types. Specify dtype option on import or set low_memory=False.\n",
      "  df = pd.read_csv(local_path / Path(f'{mouse}.csv'), sep=\";\")\n"
     ]
    },
    {
     "name": "stdout",
     "output_type": "stream",
     "text": [
      "Loaded data for ACV001.\n"
     ]
    },
    {
     "name": "stderr",
     "output_type": "stream",
     "text": [
      "/tmp/ipykernel_553375/3884949693.py:21: DtypeWarning: Columns (13,14,27,28,29,30,39) have mixed types. Specify dtype option on import or set low_memory=False.\n",
      "  df = pd.read_csv(local_path / Path(f'{mouse}.csv'), sep=\";\")\n"
     ]
    },
    {
     "name": "stdout",
     "output_type": "stream",
     "text": [
      "Loaded data for ACV002.\n"
     ]
    },
    {
     "name": "stderr",
     "output_type": "stream",
     "text": [
      "/tmp/ipykernel_553375/3884949693.py:21: DtypeWarning: Columns (13,14,17,18,27,28,29,30,39) have mixed types. Specify dtype option on import or set low_memory=False.\n",
      "  df = pd.read_csv(local_path / Path(f'{mouse}.csv'), sep=\";\")\n"
     ]
    },
    {
     "name": "stdout",
     "output_type": "stream",
     "text": [
      "Loaded data for ACV003.\n"
     ]
    },
    {
     "name": "stderr",
     "output_type": "stream",
     "text": [
      "/tmp/ipykernel_553375/3884949693.py:21: DtypeWarning: Columns (13,14,27,28,29,30,39) have mixed types. Specify dtype option on import or set low_memory=False.\n",
      "  df = pd.read_csv(local_path / Path(f'{mouse}.csv'), sep=\";\")\n"
     ]
    },
    {
     "name": "stdout",
     "output_type": "stream",
     "text": [
      "Loaded data for ACV004.\n"
     ]
    },
    {
     "name": "stderr",
     "output_type": "stream",
     "text": [
      "/tmp/ipykernel_553375/3884949693.py:21: DtypeWarning: Columns (13,14,27,28,29,30,39) have mixed types. Specify dtype option on import or set low_memory=False.\n",
      "  df = pd.read_csv(local_path / Path(f'{mouse}.csv'), sep=\";\")\n"
     ]
    },
    {
     "name": "stdout",
     "output_type": "stream",
     "text": [
      "Loaded data for ACV005.\n"
     ]
    },
    {
     "name": "stderr",
     "output_type": "stream",
     "text": [
      "/tmp/ipykernel_553375/3884949693.py:21: DtypeWarning: Columns (13,14,17,18,27,28,29,30,39) have mixed types. Specify dtype option on import or set low_memory=False.\n",
      "  df = pd.read_csv(local_path / Path(f'{mouse}.csv'), sep=\";\")\n"
     ]
    },
    {
     "name": "stdout",
     "output_type": "stream",
     "text": [
      "Loaded data for ACV006.\n"
     ]
    },
    {
     "name": "stderr",
     "output_type": "stream",
     "text": [
      "/tmp/ipykernel_553375/3884949693.py:21: DtypeWarning: Columns (13,14,17,18,27,28,29,30,39) have mixed types. Specify dtype option on import or set low_memory=False.\n",
      "  df = pd.read_csv(local_path / Path(f'{mouse}.csv'), sep=\";\")\n"
     ]
    },
    {
     "name": "stdout",
     "output_type": "stream",
     "text": [
      "Loaded data for ACV007.\n"
     ]
    },
    {
     "name": "stderr",
     "output_type": "stream",
     "text": [
      "/tmp/ipykernel_553375/3884949693.py:21: DtypeWarning: Columns (13,14,17,18,27,28,29,30,39) have mixed types. Specify dtype option on import or set low_memory=False.\n",
      "  df = pd.read_csv(local_path / Path(f'{mouse}.csv'), sep=\";\")\n"
     ]
    },
    {
     "name": "stdout",
     "output_type": "stream",
     "text": [
      "Loaded data for ACV008.\n"
     ]
    },
    {
     "name": "stderr",
     "output_type": "stream",
     "text": [
      "/tmp/ipykernel_553375/3884949693.py:21: DtypeWarning: Columns (13,14,17,18,27,28,29,30,39) have mixed types. Specify dtype option on import or set low_memory=False.\n",
      "  df = pd.read_csv(local_path / Path(f'{mouse}.csv'), sep=\";\")\n"
     ]
    },
    {
     "name": "stdout",
     "output_type": "stream",
     "text": [
      "Loaded data for ACV009.\n"
     ]
    },
    {
     "name": "stderr",
     "output_type": "stream",
     "text": [
      "/tmp/ipykernel_553375/3884949693.py:21: DtypeWarning: Columns (13,14,17,18,27,28,29,30,39) have mixed types. Specify dtype option on import or set low_memory=False.\n",
      "  df = pd.read_csv(local_path / Path(f'{mouse}.csv'), sep=\";\")\n"
     ]
    },
    {
     "name": "stdout",
     "output_type": "stream",
     "text": [
      "Loaded data for ACV010.\n"
     ]
    }
   ],
   "source": [
    "tv_projects = utils.get_server_projects()\n",
    "animals = utils.get_animals_in_project(tv_projects[1])\n",
    "animals_to_remove = ['test', 'test2']\n",
    "animals = [animal for animal in animals if animal not in animals_to_remove]\n",
    "# retrieve the data for the remaining animals\n",
    "for mouse in animals:\n",
    "    local_path = Path(utils.get_outpath()) / Path(tv_projects[1]) / Path(\"sessions\") / Path(mouse)\n",
    "    # create the directory if it doesn't exist\n",
    "    local_path.mkdir(parents=True, exist_ok=True)\n",
    "    # download the session data\n",
    "    utils.rsync_session_data(\n",
    "        project_name=tv_projects[1],\n",
    "        animal=mouse,\n",
    "        local_path=str(local_path),\n",
    "        credentials=utils.get_idibaps_cluster_credentials(),\n",
    "    )\n",
    "\n",
    "df_list = []\n",
    "for mouse in animals:\n",
    "    local_path = Path(utils.get_outpath()) / Path(tv_projects[1]) / Path(\"sessions\") / Path(mouse)\n",
    "    df = pd.read_csv(local_path / Path(f'{mouse}.csv'), sep=\";\")\n",
    "    df_list.append(df)\n",
    "    print(f\"Loaded data for {mouse}.\")\n",
    "# concatenate the dataframes\n",
    "df = pd.concat(df_list, ignore_index=True)"
   ]
  },
  {
   "cell_type": "code",
   "execution_count": 3,
   "id": "56b835f0",
   "metadata": {},
   "outputs": [],
   "source": [
    "# select only the visual hard sessions\n",
    "df = df[df.current_training_stage == 'TwoAFC_visual_hard']"
   ]
  },
  {
   "cell_type": "code",
   "execution_count": 4,
   "id": "7530975e",
   "metadata": {},
   "outputs": [
    {
     "data": {
      "image/png": "[encoded data removed]",
      "text/plain": [
       "<Figure size 1000x500 with 10 Axes>"
      ]
     },
     "metadata": {},
     "output_type": "display_data"
    }
   ],
   "source": [
    "# date of turning on the leds\n",
    "led_on_date = pd.to_datetime('2025-05-28 12:10:00')\n",
    "\n",
    "# Ensure the 'date' column is in datetime format\n",
    "df['date'] = pd.to_datetime(df['date'])\n",
    "\n",
    "bef_df = df[df.date < led_on_date]\n",
    "aft_df = df[df.date >= led_on_date]\n",
    "\n",
    "# make a figure for each subject\n",
    "nrows = 2\n",
    "ncols = 5\n",
    "fig, axs = plt.subplots(nrows=nrows, ncols=ncols, figsize=(10, 5))\n",
    "for mouse, ax in zip(animals, axs.ravel()):\n",
    "    # plot before the switch\n",
    "    mouse_df = bef_df[bef_df.subject == mouse]\n",
    "    psych_df = dft.get_performance_by_difficulty(mouse_df)\n",
    "    ax = plots.psychometric_plot(psych_df, ax=ax)\n",
    "    # plot after the switch\n",
    "    mouse_df = aft_df[aft_df.subject == mouse]\n",
    "    psych_df = dft.get_performance_by_difficulty(mouse_df)\n",
    "    ax = plots.psychometric_plot(psych_df, ax=ax)\n",
    "    ax.set_title(mouse)\n",
    "\n",
    "plt.tight_layout()\n",
    "plt.show()"
   ]
  }
 ],
 "metadata": {
  "kernelspec": {
   "display_name": "dev",
   "language": "python",
   "name": "python3"
  },
  "language_info": {
   "codemirror_mode": {
    "name": "ipython",
    "version": 3
   },
   "file_extension": ".py",
   "mimetype": "text/x-python",
   "name": "python",
   "nbconvert_exporter": "python",
   "pygments_lexer": "ipython3",
   "version": "3.12.2"
  }
 },
 "nbformat": 4,
 "nbformat_minor": 5
}
