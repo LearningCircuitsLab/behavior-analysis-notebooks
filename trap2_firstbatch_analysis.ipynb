{
 "cells": [
  {
   "cell_type": "markdown",
   "id": "8c398ca7",
   "metadata": {},
   "source": [
    "Import libraries"
   ]
  },
  {
   "cell_type": "code",
   "execution_count": 6,
   "id": "8899a403",
   "metadata": {},
   "outputs": [],
   "source": [
    "import lecilab_behavior_analysis.utils as utils\n",
    "from pathlib import Path"
   ]
  },
  {
   "cell_type": "markdown",
   "id": "47749ac2",
   "metadata": {},
   "source": [
    "Retrieve data from the server"
   ]
  },
  {
   "cell_type": "code",
   "execution_count": null,
   "id": "55526463",
   "metadata": {},
   "outputs": [
    {
     "name": "stdout",
     "output_type": "stream",
     "text": [
      "['COT_test_data', 'visual_and_COT_data']\n"
     ]
    }
   ],
   "source": [
    "# see the available projects\n",
    "tv_projects = utils.get_server_projects()\n",
    "print(tv_projects)"
   ]
  },
  {
   "cell_type": "code",
   "execution_count": 4,
   "id": "b2c411a9",
   "metadata": {},
   "outputs": [
    {
     "name": "stdout",
     "output_type": "stream",
     "text": [
      "['ACV001', 'ACV002', 'ACV003', 'ACV004', 'ACV005', 'ACV006', 'ACV007', 'ACV008', 'ACV009', 'ACV010']\n"
     ]
    }
   ],
   "source": [
    "# see the available animals\n",
    "animals = utils.get_animals_in_project(tv_projects[1])\n",
    "print(animals)"
   ]
  },
  {
   "cell_type": "code",
   "execution_count": 5,
   "id": "d69b0fc9",
   "metadata": {},
   "outputs": [
    {
     "name": "stdout",
     "output_type": "stream",
     "text": [
      "animal_1 not found in the list of animals.\n",
      "animal_2 not found in the list of animals.\n"
     ]
    }
   ],
   "source": [
    "# optionally, remove some animals\n",
    "animals_to_remove = ['animal_1', 'animal_2']\n",
    "for animal in animals_to_remove:\n",
    "    if animal in animals:\n",
    "        animals.remove(animal)\n",
    "        print(f\"Removed {animal} from the list of animals.\")\n",
    "    else:\n",
    "        print(f\"{animal} not found in the list of animals.\")"
   ]
  },
  {
   "cell_type": "code",
   "execution_count": 8,
   "id": "cf6ab1a8",
   "metadata": {},
   "outputs": [
    {
     "name": "stdout",
     "output_type": "stream",
     "text": [
      "receiving incremental file list\n",
      "\n",
      "sent 27 bytes  received 77 bytes  69.33 bytes/sec\n",
      "total size is 532,562  speedup is 5,120.79\n",
      "receiving incremental file list\n",
      "\n",
      "sent 27 bytes  received 72 bytes  198.00 bytes/sec\n",
      "total size is 602,362  speedup is 6,084.46\n",
      "receiving incremental file list\n",
      "\n",
      "sent 27 bytes  received 72 bytes  66.00 bytes/sec\n",
      "total size is 682,645  speedup is 6,895.40\n",
      "receiving incremental file list\n",
      "\n",
      "sent 27 bytes  received 72 bytes  198.00 bytes/sec\n",
      "total size is 604,685  speedup is 6,107.93\n",
      "receiving incremental file list\n",
      "\n",
      "sent 27 bytes  received 72 bytes  198.00 bytes/sec\n",
      "total size is 815,441  speedup is 8,236.78\n",
      "receiving incremental file list\n",
      "\n",
      "sent 27 bytes  received 72 bytes  66.00 bytes/sec\n",
      "total size is 751,088  speedup is 7,586.75\n",
      "receiving incremental file list\n",
      "\n",
      "sent 27 bytes  received 72 bytes  198.00 bytes/sec\n",
      "total size is 659,979  speedup is 6,666.45\n",
      "receiving incremental file list\n",
      "\n",
      "sent 27 bytes  received 72 bytes  198.00 bytes/sec\n",
      "total size is 758,018  speedup is 7,656.75\n",
      "receiving incremental file list\n",
      "\n",
      "sent 27 bytes  received 72 bytes  198.00 bytes/sec\n",
      "total size is 977,478  speedup is 9,873.52\n",
      "receiving incremental file list\n",
      "\n",
      "sent 27 bytes  received 72 bytes  198.00 bytes/sec\n",
      "total size is 711,588  speedup is 7,187.76\n"
     ]
    }
   ],
   "source": [
    "# retrieve the data for the remaining animals\n",
    "for mouse in animals:\n",
    "    local_path = Path(utils.get_outpath()) / Path(tv_projects[1]) / Path(\"sessions\") / Path(mouse)\n",
    "    # create the directory if it doesn't exist\n",
    "    local_path.mkdir(parents=True, exist_ok=True)\n",
    "    # download the session data\n",
    "    utils.rsync_session_data(\n",
    "        project_name=tv_projects[1],\n",
    "        animal=mouse,\n",
    "        local_path=str(local_path),\n",
    "        credentials=utils.get_idibaps_cluster_credentials(),\n",
    "    )"
   ]
  },
  {
   "cell_type": "code",
   "execution_count": null,
   "id": "45191aa9",
   "metadata": {},
   "outputs": [],
   "source": []
  }
 ],
 "metadata": {
  "kernelspec": {
   "display_name": "dev",
   "language": "python",
   "name": "python3"
  },
  "language_info": {
   "codemirror_mode": {
    "name": "ipython",
    "version": 3
   },
   "file_extension": ".py",
   "mimetype": "text/x-python",
   "name": "python",
   "nbconvert_exporter": "python",
   "pygments_lexer": "ipython3",
   "version": "3.12.2"
  }
 },
 "nbformat": 4,
 "nbformat_minor": 5
}
